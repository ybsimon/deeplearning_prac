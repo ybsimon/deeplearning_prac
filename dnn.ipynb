{
 "cells": [
  {
   "cell_type": "code",
   "execution_count": 6,
   "metadata": {},
   "outputs": [],
   "source": [
    "import tensorflow as tf\n",
    "import numpy as np\n",
    "\n",
    "n_inputs = 28 * 28\n",
    "n_hidden1 = 300\n",
    "n_hidden2 = 100\n",
    "n_outputs = 10\n",
    "\n",
    "X = tf.placeholder(tf.float32, shape=(None, n_inputs), name=\"X\")\n",
    "y = tf.placeholder(tf.int64, shape=(None), name=\"y\")\n",
    "\n",
    "\n",
    "def neuron_layer(X, n_neurons, name, activation=None):\n",
    "    with tf.name_scope(name):\n",
    "        n_inputs = int(X.get_shape()[1])\n",
    "        stddev = 1 / np.sqrt(n_inputs)\n",
    "        init = tf.truncated_normal((n_inputs, n_neurons), stddev=stddev)\n",
    "        W = tf.Variable(init, name=\"weights\")\n",
    "        b = tf.Variable(tf.zeros([n_neurons]), name=\"biases\")\n",
    "        Z = tf.matmul(X, W) + b\n",
    "        if activation==\"relu\":\n",
    "            return tf.nn.relu(Z)\n",
    "        else:\n",
    "            return Z\n",
    "        \n",
    "        \n",
    "with tf.name_scope(\"dnn\"):\n",
    "    hidden1 = neuron_layer(X, n_hidden1, \"hidden1\", activation=\"relu\")\n",
    "    hidden2 = neuron_layer(hidden1, n_hidden2, \"hidden2\", activation=\"relu\")\n",
    "    logits = neuron_layer(hidden2, n_outputs, \"output\")\n",
    "    \n",
    "with tf.name_scope(\"loss\"):    \n",
    "    xentropy = tf.nn.sparse_softmax_cross_entropy_with_logits(labels=y, logits = logits)\n",
    "    loss = tf.reduce_mean(xentropy, name=\"loss\")\n",
    "    \n",
    "learning_rate = 0.01    \n",
    "with tf.name_scope(\"train\"):    \n",
    "    optimizer = tf.train.GradientDescentOptimizer(learning_rate)\n",
    "    training_op = optimizer.minimize(loss)\n",
    "    \n",
    "with tf.name_scope(\"eval\"): \n",
    "    correct = tf.nn.in_top_k(logits, y, 1)\n",
    "    accuracy = tf.reduce_mean(tf.cast(correct, tf.float32))\n",
    "    \n",
    "init = tf.global_variables_initializer()\n",
    "saver = tf.train.Saver()\n",
    "\n"
   ]
  },
  {
   "cell_type": "code",
   "execution_count": 7,
   "metadata": {},
   "outputs": [
    {
     "name": "stdout",
     "output_type": "stream",
     "text": [
      "Extracting /tmp/data/train-images-idx3-ubyte.gz\n",
      "Extracting /tmp/data/train-labels-idx1-ubyte.gz\n",
      "Extracting /tmp/data/t10k-images-idx3-ubyte.gz\n",
      "Extracting /tmp/data/t10k-labels-idx1-ubyte.gz\n",
      "0 Train accuracy: 0.92 Test accuracy: 0.8861\n",
      "1 Train accuracy: 0.9 Test accuracy: 0.9084\n",
      "2 Train accuracy: 0.98 Test accuracy: 0.917\n",
      "3 Train accuracy: 0.88 Test accuracy: 0.9277\n",
      "4 Train accuracy: 0.94 Test accuracy: 0.9316\n",
      "5 Train accuracy: 0.96 Test accuracy: 0.9375\n",
      "6 Train accuracy: 0.98 Test accuracy: 0.9416\n",
      "7 Train accuracy: 0.94 Test accuracy: 0.9458\n",
      "8 Train accuracy: 0.96 Test accuracy: 0.9486\n",
      "9 Train accuracy: 0.96 Test accuracy: 0.9511\n",
      "10 Train accuracy: 0.94 Test accuracy: 0.9533\n",
      "11 Train accuracy: 0.96 Test accuracy: 0.9572\n",
      "12 Train accuracy: 0.98 Test accuracy: 0.9583\n",
      "13 Train accuracy: 1.0 Test accuracy: 0.9587\n",
      "14 Train accuracy: 0.94 Test accuracy: 0.9614\n",
      "15 Train accuracy: 0.96 Test accuracy: 0.9632\n",
      "16 Train accuracy: 0.98 Test accuracy: 0.965\n",
      "17 Train accuracy: 0.98 Test accuracy: 0.9657\n",
      "18 Train accuracy: 1.0 Test accuracy: 0.9678\n",
      "19 Train accuracy: 0.98 Test accuracy: 0.9677\n"
     ]
    }
   ],
   "source": [
    "n_epochs = 20\n",
    "batch_size = 50\n",
    "\n",
    "\n",
    "from tensorflow.examples.tutorials.mnist import input_data\n",
    "mnist = input_data.read_data_sets(\"/tmp/data/\")\n",
    "\n",
    "with tf.Session() as sess:\n",
    "    init.run()\n",
    "    for epoch in range(n_epochs):\n",
    "        for iteration in range(mnist.train.num_examples // batch_size):\n",
    "            X_batch, y_batch = mnist.train.next_batch(batch_size)\n",
    "            sess.run(training_op, feed_dict={X: X_batch, y: y_batch})\n",
    "        acc_train = accuracy.eval(feed_dict={X: X_batch, y: y_batch})\n",
    "        acc_test = accuracy.eval(feed_dict={X: mnist.test.images, y: mnist.test.labels})\n",
    "        print(epoch, \"Train accuracy:\", acc_train, \"Test accuracy:\", acc_test)\n",
    "        \n",
    "    save_path = saver.save(sess, \"./my_model_final.ckpt\")     "
   ]
  },
  {
   "cell_type": "code",
   "execution_count": 8,
   "metadata": {},
   "outputs": [
    {
     "name": "stdout",
     "output_type": "stream",
     "text": [
      "INFO:tensorflow:Restoring parameters from my_model_final.ckpt\n",
      "[7 2 1 0 4 1 4 9 6 9 0 6 9 0 1 5 9 7 3 4]\n",
      "[7 2 1 0 4 1 4 9 5 9 0 6 9 0 1 5 9 7 3 4]\n"
     ]
    }
   ],
   "source": [
    "save_path = \"my_model_final.ckpt\"\n",
    "with tf.Session() as sess:\n",
    "    saver.restore(sess, save_path) \n",
    "    X_new_scaled = mnist.test.images[:20]\n",
    "    Z = logits.eval(feed_dict={X: X_new_scaled})\n",
    "    print(np.argmax(Z, axis=1))\n",
    "    print(mnist.test.labels[:20])"
   ]
  },
  {
   "cell_type": "code",
   "execution_count": 13,
   "metadata": {
    "collapsed": true
   },
   "outputs": [],
   "source": [
    "tf.reset_default_graph()\n",
    "\n",
    "n_inputs = 28 * 28\n",
    "n_hidden1 = 300\n",
    "n_hidden2 = 100\n",
    "n_hidden3 = 100\n",
    "n_outputs = 10\n",
    "\n",
    "X = tf.placeholder(tf.float32, shape=(None, n_inputs), name=\"X\")\n",
    "y = tf.placeholder(tf.int64, shape=(None), name=\"y\")\n",
    "\n",
    "\n",
    "def neuron_layer(X, n_neurons, name, activation=None):\n",
    "    with tf.name_scope(name):\n",
    "        n_inputs = int(X.get_shape()[1])\n",
    "        stddev = 1 / np.sqrt(n_inputs)\n",
    "        init = tf.truncated_normal((n_inputs, n_neurons), stddev=stddev)\n",
    "        W = tf.Variable(init, name=\"weights\")\n",
    "        b = tf.Variable(tf.zeros([n_neurons]), name=\"biases\")\n",
    "        Z = tf.matmul(X, W) + b\n",
    "        if activation==\"relu\":\n",
    "            return tf.nn.relu(Z)\n",
    "        else:\n",
    "            return Z\n",
    "        \n",
    "        \n",
    "with tf.name_scope(\"dnn\"):\n",
    "    hidden1 = neuron_layer(X, n_hidden1, \"hidden1\", activation=\"relu\")\n",
    "    hidden2 = neuron_layer(hidden1, n_hidden2, \"hidden2\", activation=\"relu\")\n",
    "    hidden3 = neuron_layer(hidden2, n_hidden3, \"hidden3\", activation=\"relu\")\n",
    "    logits = neuron_layer(hidden3, n_outputs, \"output\")\n",
    "    \n",
    "with tf.name_scope(\"loss\"):    \n",
    "    xentropy = tf.nn.sparse_softmax_cross_entropy_with_logits(labels=y, logits = logits)\n",
    "    loss = tf.reduce_mean(xentropy, name=\"loss\")\n",
    "    \n",
    "learning_rate = 0.01    \n",
    "with tf.name_scope(\"train\"):    \n",
    "    optimizer = tf.train.GradientDescentOptimizer(learning_rate)\n",
    "    training_op = optimizer.minimize(loss)\n",
    "    \n",
    "with tf.name_scope(\"eval\"): \n",
    "    correct = tf.nn.in_top_k(logits, y, 1)\n",
    "    accuracy = tf.reduce_mean(tf.cast(correct, tf.float32))\n",
    "    \n",
    "init = tf.global_variables_initializer()\n",
    "saver = tf.train.Saver()\n",
    "\n"
   ]
  },
  {
   "cell_type": "code",
   "execution_count": 14,
   "metadata": {},
   "outputs": [
    {
     "name": "stdout",
     "output_type": "stream",
     "text": [
      "Extracting /tmp/data/train-images-idx3-ubyte.gz\n",
      "Extracting /tmp/data/train-labels-idx1-ubyte.gz\n",
      "Extracting /tmp/data/t10k-images-idx3-ubyte.gz\n",
      "Extracting /tmp/data/t10k-labels-idx1-ubyte.gz\n",
      "0 Train accuracy: 0.88 Test accuracy: 0.8761\n",
      "1 Train accuracy: 0.92 Test accuracy: 0.9071\n",
      "2 Train accuracy: 0.86 Test accuracy: 0.9219\n",
      "3 Train accuracy: 0.94 Test accuracy: 0.9343\n",
      "4 Train accuracy: 0.84 Test accuracy: 0.9415\n",
      "5 Train accuracy: 0.96 Test accuracy: 0.9406\n",
      "6 Train accuracy: 1.0 Test accuracy: 0.9511\n",
      "7 Train accuracy: 0.92 Test accuracy: 0.9559\n",
      "8 Train accuracy: 1.0 Test accuracy: 0.9585\n",
      "9 Train accuracy: 1.0 Test accuracy: 0.9614\n",
      "10 Train accuracy: 0.96 Test accuracy: 0.9644\n",
      "11 Train accuracy: 0.96 Test accuracy: 0.9633\n",
      "12 Train accuracy: 0.96 Test accuracy: 0.9664\n",
      "13 Train accuracy: 1.0 Test accuracy: 0.9683\n",
      "14 Train accuracy: 1.0 Test accuracy: 0.9691\n",
      "15 Train accuracy: 0.98 Test accuracy: 0.9704\n",
      "16 Train accuracy: 1.0 Test accuracy: 0.9701\n",
      "17 Train accuracy: 1.0 Test accuracy: 0.9721\n",
      "18 Train accuracy: 1.0 Test accuracy: 0.9732\n",
      "19 Train accuracy: 1.0 Test accuracy: 0.9737\n"
     ]
    }
   ],
   "source": [
    "n_epochs = 20\n",
    "batch_size = 50\n",
    "\n",
    "\n",
    "from tensorflow.examples.tutorials.mnist import input_data\n",
    "mnist = input_data.read_data_sets(\"/tmp/data/\")\n",
    "\n",
    "with tf.Session() as sess:\n",
    "    init.run()\n",
    "    for epoch in range(n_epochs):\n",
    "        for iteration in range(mnist.train.num_examples // batch_size):\n",
    "            X_batch, y_batch = mnist.train.next_batch(batch_size)\n",
    "            sess.run(training_op, feed_dict={X: X_batch, y: y_batch})\n",
    "        acc_train = accuracy.eval(feed_dict={X: X_batch, y: y_batch})\n",
    "        acc_test = accuracy.eval(feed_dict={X: mnist.test.images, y: mnist.test.labels})\n",
    "        print(epoch, \"Train accuracy:\", acc_train, \"Test accuracy:\", acc_test)\n",
    "        \n",
    "    save_path = saver.save(sess, \"./my_model_final2.ckpt\")  "
   ]
  },
  {
   "cell_type": "code",
   "execution_count": null,
   "metadata": {
    "collapsed": true
   },
   "outputs": [],
   "source": []
  }
 ],
 "metadata": {
  "kernelspec": {
   "display_name": "Python 3",
   "language": "python",
   "name": "python3"
  },
  "language_info": {
   "codemirror_mode": {
    "name": "ipython",
    "version": 3
   },
   "file_extension": ".py",
   "mimetype": "text/x-python",
   "name": "python",
   "nbconvert_exporter": "python",
   "pygments_lexer": "ipython3",
   "version": "3.6.1"
  }
 },
 "nbformat": 4,
 "nbformat_minor": 2
}
